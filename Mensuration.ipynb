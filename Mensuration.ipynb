{
 "cells": [
  {
   "cell_type": "code",
   "execution_count": 1,
   "id": "1aa19782",
   "metadata": {
    "scrolled": true
   },
   "outputs": [
    {
     "name": "stdout",
     "output_type": "stream",
     "text": [
      "Enter the Length : 6\n",
      "Entert the Breadth : 8\n",
      "Area of rectangle is 48\n"
     ]
    }
   ],
   "source": [
    "# Area of Rectangle\n",
    "Length=int(input(\"Enter the Length : \"))\n",
    "Breadth=int(input(\"Entert the Breadth : \"))\n",
    "Area = Length * Breadth\n",
    "print(\"Area of rectangle is\",  Area)"
   ]
  },
  {
   "cell_type": "code",
   "execution_count": 2,
   "id": "97308ace",
   "metadata": {},
   "outputs": [
    {
     "name": "stdout",
     "output_type": "stream",
     "text": [
      "Enter the Length : 4\n",
      "Area of square is 16\n"
     ]
    }
   ],
   "source": [
    "#Area of Square\n",
    "Length=int(input(\"Enter the Length : \"))\n",
    "Area=Length*Length\n",
    "print(\"Area of square is\", Area)"
   ]
  },
  {
   "cell_type": "code",
   "execution_count": 3,
   "id": "a08461e4",
   "metadata": {},
   "outputs": [
    {
     "name": "stdout",
     "output_type": "stream",
     "text": [
      "Entr the Radius: 6\n",
      "Area of circle is 113.03999999999999\n"
     ]
    }
   ],
   "source": [
    "#Area of Circle\n",
    "pi=3.14\n",
    "Radius=int(input(\"Entr the Radius: \" ))\n",
    "Area=pi*Radius*Radius\n",
    "print(\"Area of circle is\", Area)"
   ]
  },
  {
   "cell_type": "code",
   "execution_count": 4,
   "id": "10ce36bc",
   "metadata": {},
   "outputs": [
    {
     "name": "stdout",
     "output_type": "stream",
     "text": [
      "Enter the Length8\n",
      "Enter the Breadth6\n",
      "Perimeter of Rectangle is 28\n"
     ]
    }
   ],
   "source": [
    "#Perimeter of rectangle\n",
    "Length=int(input(\"Enter the Length\"))\n",
    "Breadth=int(input(\"Enter the Breadth\"))\n",
    "Area=(2*Length) + (2*Breadth)\n",
    "print(\"Perimeter of Rectangle is\", Area)"
   ]
  },
  {
   "cell_type": "code",
   "execution_count": 5,
   "id": "5cd69e01",
   "metadata": {},
   "outputs": [
    {
     "name": "stdout",
     "output_type": "stream",
     "text": [
      "Enter the side:6\n",
      "Perimeter of Square is 24\n"
     ]
    }
   ],
   "source": [
    "#perimeter of square\n",
    "S=int(input(\"Enter the side:\"))\n",
    "Area= 4*S\n",
    "print(\"Perimeter of Square is\", Area)\n"
   ]
  },
  {
   "cell_type": "code",
   "execution_count": 6,
   "id": "b1255326",
   "metadata": {},
   "outputs": [
    {
     "name": "stdout",
     "output_type": "stream",
     "text": [
      "Enter the Radius4\n",
      "Circumference of Circle is 25.12\n"
     ]
    }
   ],
   "source": [
    "#Circumference of circle\n",
    "pi=3.14\n",
    "Radius=int(input(\"Enter the Radius\" ))\n",
    "Area=2*pi*Radius\n",
    "print(\"Circumference of Circle is\", Area)"
   ]
  },
  {
   "cell_type": "code",
   "execution_count": 7,
   "id": "ea84339c",
   "metadata": {},
   "outputs": [
    {
     "name": "stdout",
     "output_type": "stream",
     "text": [
      "Enter the Length4\n",
      "Volume of Cube is 64\n"
     ]
    }
   ],
   "source": [
    "#Volume of Cube\n",
    "Length=int(input(\"Enter the Length\"))\n",
    "Area=Length*Length*Length\n",
    "print(\"Volume of Cube is\", Area)"
   ]
  },
  {
   "cell_type": "code",
   "execution_count": 8,
   "id": "e7e4ca87",
   "metadata": {},
   "outputs": [
    {
     "name": "stdout",
     "output_type": "stream",
     "text": [
      "Enter the Length4\n",
      "Enter the Breadth6\n",
      "Enter the Height8\n",
      "Volume of cuboid is 192\n"
     ]
    }
   ],
   "source": [
    "#Volume of Cuboid\n",
    "Length=int(input(\"Enter the Length\"))\n",
    "Breadth=int(input(\"Enter the Breadth\"))\n",
    "Height=int(input(\"Enter the Height\"))\n",
    "Area=Length*Breadth*Height\n",
    "print(\"Volume of cuboid is\", Area)\n"
   ]
  },
  {
   "cell_type": "code",
   "execution_count": 11,
   "id": "1f01eb3f",
   "metadata": {},
   "outputs": [
    {
     "name": "stdout",
     "output_type": "stream",
     "text": [
      "Enter the Length5\n",
      "Surface Area of Cube is 150\n"
     ]
    }
   ],
   "source": [
    "#Surface Area of Cube\n",
    "Length=int(input(\"Enter the Length\"))\n",
    "Area=6*Length*Length\n",
    "print(\"Surface Area of Cube is\", Area)"
   ]
  },
  {
   "cell_type": "code",
   "execution_count": 12,
   "id": "83dfac11",
   "metadata": {},
   "outputs": [
    {
     "name": "stdout",
     "output_type": "stream",
     "text": [
      "Enter the Breadth4\n",
      "Enter the Length6\n",
      "enter the Height8\n",
      "Total Surface Area of Cuboid is 132\n"
     ]
    }
   ],
   "source": [
    "#Total Surfce Area of Cuboid\n",
    "Breadth=int(input(\"Enter the Breadth\"))\n",
    "Length=int(input(\"Enter the Length\"))\n",
    "Height=int(input(\"enter the Height\"))\n",
    "Area=(2*Length*Breadth)+(2*Height*Breadth)+(2*Length+Height)\n",
    "print(\"Total Surface Area of Cuboid is\", Area)\n"
   ]
  },
  {
   "cell_type": "raw",
   "id": "4955d50d",
   "metadata": {},
   "source": []
  }
 ],
 "metadata": {
  "kernelspec": {
   "display_name": "Python 3 (ipykernel)",
   "language": "python",
   "name": "python3"
  },
  "language_info": {
   "codemirror_mode": {
    "name": "ipython",
    "version": 3
   },
   "file_extension": ".py",
   "mimetype": "text/x-python",
   "name": "python",
   "nbconvert_exporter": "python",
   "pygments_lexer": "ipython3",
   "version": "3.9.7"
  }
 },
 "nbformat": 4,
 "nbformat_minor": 5
}
